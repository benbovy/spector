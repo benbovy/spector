{
 "cells": [
  {
   "cell_type": "code",
   "execution_count": 1,
   "metadata": {
    "collapsed": false
   },
   "outputs": [],
   "source": [
    "import os\n",
    "\n",
    "import matplotlib.pyplot as plt\n",
    "\n",
    "import spector as spt\n",
    "\n",
    "%matplotlib inline"
   ]
  },
  {
   "cell_type": "code",
   "execution_count": 2,
   "metadata": {
    "collapsed": true
   },
   "outputs": [],
   "source": [
    "spec_path = \"/mnt/nfs/nautilus/lv_data_1/spectro2/spec\"\n",
    "fts1_obs_path = \"/mnt/nfs/nautilus/lv_data_1/obs/FTS1\"\n",
    "bruker_obs_path = \"/mnt/nfs/nautilus/lv_data_1/obs/Bruker\""
   ]
  },
  {
   "cell_type": "markdown",
   "metadata": {},
   "source": [
    "## Read Bruker file"
   ]
  },
  {
   "cell_type": "code",
   "execution_count": 4,
   "metadata": {
    "collapsed": false
   },
   "outputs": [
    {
     "data": {
      "text/plain": [
       "{'aperture_id': 2,\n",
       " 'beamsplitter_id': 5,\n",
       " 'correction_factor': 103.0219955444336,\n",
       " 'data': array([-0.00490645, -0.00500723, -0.00405443, ...,  0.00117866,\n",
       "         0.0004746 ,  0.00083119], dtype=float32),\n",
       " 'datetime_avg': datetime.datetime(2015, 1, 1, 9, 50, 15),\n",
       " 'filter_id': 3,\n",
       " 'laser_frequency': 15798.0,\n",
       " 'n_points': 292045,\n",
       " 'n_scan_forward': 3,\n",
       " 'name': 'S15101AA.DAT',\n",
       " 'resolution': 4.95988130569458,\n",
       " 'scale_factor': 23,\n",
       " 'sn_ratio': 1428,\n",
       " 'source_id': 4,\n",
       " 'sun_elevation': 11.530534744262695,\n",
       " 'wavenumber_begin': 2200.0068433880806,\n",
       " 'wavenumber_end': 3300.004615295472,\n",
       " 'wavenumber_step': 0.0037665480951753543}"
      ]
     },
     "execution_count": 4,
     "metadata": {},
     "output_type": "execute_result"
    }
   ],
   "source": [
    "example_bruker_file = os.path.join(bruker_obs_path, \"2015\", \"01\", \"S15101AA.DAT\")\n",
    "\n",
    "spectrum = spt.io.read_bruker(example_bruker_file)\n",
    "\n",
    "spectrum"
   ]
  },
  {
   "cell_type": "code",
   "execution_count": 5,
   "metadata": {
    "collapsed": false
   },
   "outputs": [
    {
     "data": {
      "text/plain": [
       "[<matplotlib.lines.Line2D at 0x7fbd20068ef0>]"
      ]
     },
     "execution_count": 5,
     "metadata": {},
     "output_type": "execute_result"
    },
    {
     "data": {
      "image/png": "[encoded data removed]",
      "text/plain": [
       "<matplotlib.figure.Figure at 0x7fbd200fde10>"
      ]
     },
     "metadata": {},
     "output_type": "display_data"
    }
   ],
   "source": [
    "plt.plot(spectrum['data'])"
   ]
  },
  {
   "cell_type": "code",
   "execution_count": 6,
   "metadata": {
    "collapsed": false
   },
   "outputs": [
    {
     "data": {
      "text/plain": [
       "{'aperture_id': 2,\n",
       " 'beamsplitter_id': 5,\n",
       " 'correction_factor': -0.0,\n",
       " 'data': array([-0.00490645, -0.00500723, -0.00405443, ...,  0.00117866,\n",
       "         0.0004746 ,  0.00083119], dtype=float32),\n",
       " 'datetime_avg': datetime.datetime(2015, 1, 1, 9, 50, 15),\n",
       " 'filter_id': 3,\n",
       " 'laser_frequency': 15798.0,\n",
       " 'n_points': 292045,\n",
       " 'n_scan_forward': 3,\n",
       " 'name': 'S15101AA.DAT',\n",
       " 'resolution': 4.95988130569458,\n",
       " 'scale_factor': 23,\n",
       " 'sn_ratio': -2147483648,\n",
       " 'source_id': 4,\n",
       " 'sun_elevation': 11.530534744262695,\n",
       " 'wavenumber_begin': 2200.0001950263977,\n",
       " 'wavenumber_end': 3299.9946427345276,\n",
       " 'wavenumber_step': 0.0037665367126464844}"
      ]
     },
     "execution_count": 6,
     "metadata": {},
     "output_type": "execute_result"
    }
   ],
   "source": [
    "raw_bruker_file = os.path.join(bruker_obs_path, \"RAW\", \"2015\", \"151raw\", \"S15101AA.DAT\")\n",
    "\n",
    "spt.io.read_bruker(raw_bruker_file)"
   ]
  },
  {
   "cell_type": "code",
   "execution_count": 7,
   "metadata": {
    "collapsed": false
   },
   "outputs": [
    {
     "data": {
      "text/plain": [
       "{'aperture_id': 2,\n",
       " 'beamsplitter_id': 5,\n",
       " 'correction_factor': -0.0,\n",
       " 'data': array([ 0.47079313,  0.4700118 ,  0.47294486, ...,  0.82134777,\n",
       "         0.82250309,  0.82116675], dtype=float32),\n",
       " 'datetime_avg': datetime.datetime(2002, 2, 9, 9, 20, 28, 500000),\n",
       " 'filter_id': 3,\n",
       " 'laser_frequency': 15798.0,\n",
       " 'n_points': 278771,\n",
       " 'n_scan_forward': 10,\n",
       " 'name': 'L02209AA.DAT',\n",
       " 'resolution': 1.9459724426269531,\n",
       " 'scale_factor': 23,\n",
       " 'sn_ratio': -2147483648,\n",
       " 'source_id': 1,\n",
       " 'sun_elevation': -0.0,\n",
       " 'wavenumber_begin': 2399.9995279312134,\n",
       " 'wavenumber_end': 2699.998796352318,\n",
       " 'wavenumber_step': 0.001076153346562058}"
      ]
     },
     "execution_count": 7,
     "metadata": {},
     "output_type": "execute_result"
    }
   ],
   "source": [
    "labo_bruker_file = os.path.join(bruker_obs_path, \"LABO\", \"HBr\", \"L02209AA.DAT\")\n",
    "\n",
    "spt.io.read_bruker(labo_bruker_file)"
   ]
  },
  {
   "cell_type": "markdown",
   "metadata": {},
   "source": [
    "## Read SPEC file"
   ]
  },
  {
   "cell_type": "code",
   "execution_count": 8,
   "metadata": {
    "collapsed": false,
    "scrolled": false
   },
   "outputs": [
    {
     "data": {
      "text/plain": [
       "{'created_hp1000': '',\n",
       " 'created_pc': datetime.datetime(2015, 2, 13, 14, 49, 35),\n",
       " 'modified_hp1000': '',\n",
       " 'modified_pc': datetime.datetime(2016, 1, 5, 16, 14, 35),\n",
       " 'n_records': 2151}"
      ]
     },
     "execution_count": 8,
     "metadata": {},
     "output_type": "execute_result"
    }
   ],
   "source": [
    "example_spec_file = os.path.join(spec_path, \"BR15\")\n",
    "\n",
    "header, records = spt.io.read_spec(example_spec_file)\n",
    "\n",
    "header"
   ]
  },
  {
   "cell_type": "code",
   "execution_count": 9,
   "metadata": {
    "collapsed": false
   },
   "outputs": [
    {
     "data": {
      "text/plain": [
       "{'air_mass': 4.891640663146973,\n",
       " 'aperture': 1.100000023841858,\n",
       " 'band_id': 2,\n",
       " 'beamsplitter_id': 5,\n",
       " 'datetime_avg': datetime.datetime(2015, 1, 1, 9, 50, 14, 998627),\n",
       " 'datetime_begin': datetime.datetime(2015, 1, 1, 0, 0),\n",
       " 'datetime_end': datetime.datetime(2015, 1, 1, 0, 0),\n",
       " 'detector_id': 2,\n",
       " 'detector_potential': 0,\n",
       " 'filter_id': 3,\n",
       " 'filter_io_ratio': 4,\n",
       " 'fringing_level': 0,\n",
       " 'has_bad_ils': False,\n",
       " 'has_bad_sn_ratio': False,\n",
       " 'has_fast_signal_variation': False,\n",
       " 'has_pollution': False,\n",
       " 'has_slow_signal_variation': False,\n",
       " 'has_technical_problem': False,\n",
       " 'is_bad_spectrum': False,\n",
       " 'is_bad_zero': False,\n",
       " 'is_mean_spectrum': False,\n",
       " 'is_sun_centered': True,\n",
       " 'max_transmittance': 0.026920875534415245,\n",
       " 'mec_velocity': 12660,\n",
       " 'n_points': 292045,\n",
       " 'n_points_fft': 0,\n",
       " 'n_points_itf': 0,\n",
       " 'n_scan_backward': 0,\n",
       " 'n_scan_forward': 3,\n",
       " 'name': 'S15101AA.DAT',\n",
       " 'pressure': 663.8000000000001,\n",
       " 'relative_humidity': 110.0,\n",
       " 'resistance': 0.0,\n",
       " 'resolution': 4.95988130569458,\n",
       " 'rms_noise': 0.0006247080746106803,\n",
       " 'sampling_frequency': 40000,\n",
       " 'sn_ratio': 1428,\n",
       " 'source_id': 4,\n",
       " 'sun_elevation': 11.530534744262695,\n",
       " 'tape_id': -9999,\n",
       " 'temperature': -5.2,\n",
       " 'tropopause_height': 0.0,\n",
       " 'wavenumber_begin': 2200.0068359375,\n",
       " 'wavenumber_end': 3300.004638671875,\n",
       " 'wavenumber_step': 0.0037665480951753548,\n",
       " 'weather_id': 0}"
      ]
     },
     "execution_count": 9,
     "metadata": {},
     "output_type": "execute_result"
    }
   ],
   "source": [
    "records[0]"
   ]
  },
  {
   "cell_type": "markdown",
   "metadata": {},
   "source": [
    "## Read FTS1 file"
   ]
  },
  {
   "cell_type": "code",
   "execution_count": 10,
   "metadata": {
    "collapsed": false
   },
   "outputs": [
    {
     "data": {
      "text/plain": [
       "{'aperture': 4.0,\n",
       " 'correction_factor': 0.0,\n",
       " 'data': array([    0.        ,     0.        ,     0.        , ...,  1037.33032227,\n",
       "        -1050.50146484,  1009.17346191], dtype=float32),\n",
       " 'datetime_avg': datetime.datetime(1994, 1, 27, 11, 12, 22, 861176),\n",
       " 'datetime_begin': datetime.datetime(1994, 1, 27, 0, 0),\n",
       " 'datetime_end': datetime.datetime(1994, 1, 27, 0, 0),\n",
       " 'ftype': 'Joch FTS1',\n",
       " 'n_points': 139264,\n",
       " 'name': 'SSK913',\n",
       " 'nb_scan_backward': 11,\n",
       " 'nb_scan_forward': 11,\n",
       " 'resolution': 6.10274177283499,\n",
       " 'secz': 2.6833786964416504,\n",
       " 'sn_ratio': 990,\n",
       " 'source_id': 4,\n",
       " 'sun_elevation': 21.880035400390625,\n",
       " 'wavenumber_begin': 649.8072133354874,\n",
       " 'wavenumber_end': 1499.5489798709373,\n",
       " 'wavenumber_step': 0.006101661352075553}"
      ]
     },
     "execution_count": 10,
     "metadata": {},
     "output_type": "execute_result"
    }
   ],
   "source": [
    "example_fts1_file = os.path.join(fts1_obs_path, \"INSB\", \"1994\", \"SSK913\")\n",
    "\n",
    "spectrum = spt.io.read_fts1(example_fts1_file)\n",
    "\n",
    "spectrum"
   ]
  },
  {
   "cell_type": "code",
   "execution_count": 11,
   "metadata": {
    "collapsed": false
   },
   "outputs": [
    {
     "data": {
      "text/plain": [
       "[<matplotlib.lines.Line2D at 0x7fbd2002a390>]"
      ]
     },
     "execution_count": 11,
     "metadata": {},
     "output_type": "execute_result"
    },
    {
     "data": {
      "image/png": "[encoded data removed]",
      "text/plain": [
       "<matplotlib.figure.Figure at 0x7fbd20070e48>"
      ]
     },
     "metadata": {},
     "output_type": "display_data"
    }
   ],
   "source": [
    "plt.plot(spectrum['data'])"
   ]
  },
  {
   "cell_type": "markdown",
   "metadata": {},
   "source": [
    "## Read Rinsland file"
   ]
  },
  {
   "cell_type": "code",
   "execution_count": 12,
   "metadata": {
    "collapsed": false
   },
   "outputs": [
    {
     "data": {
      "text/plain": [
       "{'aperture': 2.5,\n",
       " 'data': array([-0.00102425,  0.00014132,  0.00098495, ..., -0.00100965,\n",
       "        -0.00061558, -0.00045812], dtype=float32),\n",
       " 'datetime_avg': datetime.datetime(2015, 2, 26, 10, 20, 54, 996000),\n",
       " 'n_points': 185848,\n",
       " 'name': 'S15226UW.moy',\n",
       " 'resolution': 6.1,\n",
       " 'sn_ratio': 1322,\n",
       " 'spec_type': 'JJB',\n",
       " 'wavenumber_begin': 699.9994754671968,\n",
       " 'wavenumber_end': 1400.0027175188004,\n",
       " 'wavenumber_step': 0.003766556587147512,\n",
       " 'zenith_angle': 63.497}"
      ]
     },
     "execution_count": 12,
     "metadata": {},
     "output_type": "execute_result"
    }
   ],
   "source": [
    "example_rinsland_file = \"/mnt/nfs/nautilus/lv_data_1/spectro2/spectra/diane/BR-FEV.15/RZ/MCT/R15226UW.moy\"\n",
    "\n",
    "spectrum = spt.io.read_rinsland(example_rinsland_file)\n",
    "\n",
    "spectrum"
   ]
  },
  {
   "cell_type": "code",
   "execution_count": 13,
   "metadata": {
    "collapsed": false
   },
   "outputs": [
    {
     "data": {
      "text/plain": [
       "[<matplotlib.lines.Line2D at 0x7fbd2002af28>]"
      ]
     },
     "execution_count": 13,
     "metadata": {},
     "output_type": "execute_result"
    },
    {
     "data": {
      "image/png": "[encoded data removed]",
      "text/plain": [
       "<matplotlib.figure.Figure at 0x7fbd1c575748>"
      ]
     },
     "metadata": {},
     "output_type": "display_data"
    }
   ],
   "source": [
    "plt.plot(spectrum['data'])"
   ]
  },
  {
   "cell_type": "markdown",
   "metadata": {},
   "source": [
    "## Domains file"
   ]
  },
  {
   "cell_type": "code",
   "execution_count": 14,
   "metadata": {
    "collapsed": false
   },
   "outputs": [
    {
     "name": "stdout",
     "output_type": "stream",
     "text": [
      "cat: /home/bovy/sfit4/data_formats/torin/sfit.dom: No such file or directory\r\n"
     ]
    }
   ],
   "source": [
    "# presets (obs strategies)\n",
    "!cat /home/bovy/sfit4/data_formats/torin/sfit.dom"
   ]
  },
  {
   "cell_type": "code",
   "execution_count": 15,
   "metadata": {
    "collapsed": false
   },
   "outputs": [
    {
     "name": "stdout",
     "output_type": "stream",
     "text": [
      "1.7G\ttotal\r\n"
     ]
    }
   ],
   "source": [
    "!du -ch $bruker_obs_path/2000 | grep total"
   ]
  },
  {
   "cell_type": "code",
   "execution_count": null,
   "metadata": {
    "collapsed": true
   },
   "outputs": [],
   "source": []
  }
 ],
 "metadata": {
  "kernelspec": {
   "display_name": "PySpectro (py34)",
   "language": "python",
   "name": "pyspectro_py34"
  },
  "language_info": {
   "codemirror_mode": {
    "name": "ipython",
    "version": 3
   },
   "file_extension": ".py",
   "mimetype": "text/x-python",
   "name": "python",
   "nbconvert_exporter": "python",
   "pygments_lexer": "ipython3",
   "version": "3.4.4"
  }
 },
 "nbformat": 4,
 "nbformat_minor": 0
}
